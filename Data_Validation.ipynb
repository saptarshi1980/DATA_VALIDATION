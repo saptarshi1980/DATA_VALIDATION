{
  "nbformat": 4,
  "nbformat_minor": 0,
  "metadata": {
    "colab": {
      "provenance": []
    },
    "kernelspec": {
      "name": "python3",
      "display_name": "Python 3"
    },
    "language_info": {
      "name": "python"
    }
  },
  "cells": [
    {
      "cell_type": "code",
      "execution_count": 1,
      "metadata": {
        "colab": {
          "base_uri": "https://localhost:8080/"
        },
        "id": "J2igsd66E7bw",
        "outputId": "b91e1c32-5a89-4de2-e01f-0b8c33231dcf"
      },
      "outputs": [
        {
          "output_type": "stream",
          "name": "stdout",
          "text": [
            "Schema Compatible: True\n",
            "Continuous Columns Validation:\n",
            "{'age': {'statistic': 0.2, 'p_value': 0.9944575548290717}, 'income': {'statistic': 0.1, 'p_value': 1.0}}\n",
            "Categorical Columns Validation:\n",
            "{'gender': {'statistic': 0.0, 'p_value': 1.0}}\n"
          ]
        }
      ],
      "source": [
        "import pandas as pd\n",
        "import numpy as np\n",
        "from scipy.stats import ks_2samp, chisquare\n",
        "\n",
        "# Training DataFrame\n",
        "data_train = {\n",
        "    'age': [25, 32, 47, 51, 62, 33, 40, 59, 48, 52],\n",
        "    'income': [50000, 60000, 75000, 80000, 120000, 65000, 70000, 115000, 76000, 85000],\n",
        "    'gender': ['M', 'F', 'F', 'M', 'F', 'M', 'F', 'M', 'F', 'M']\n",
        "}\n",
        "df_train = pd.DataFrame(data_train)\n",
        "\n",
        "# Batch Prediction DataFrame\n",
        "data_batch = {\n",
        "    'age': [29, 36, 50, 55, 64, 34, 42, 57, 49, 53],\n",
        "    'income': [52000, 61000, 74000, 82000, 125000, 64000, 72000, 110000, 78000, 86000],\n",
        "    'gender': ['M', 'F', 'F', 'M', 'F', 'M', 'F', 'M', 'F', 'M']\n",
        "}\n",
        "df_batch = pd.DataFrame(data_batch)\n",
        "\n",
        "# Check Schema Compatibility\n",
        "def check_schema_compatibility(df1, df2):\n",
        "    return df1.dtypes.equals(df2.dtypes)\n",
        "\n",
        "schema_compatible = check_schema_compatibility(df_train, df_batch)\n",
        "print(f'Schema Compatible: {schema_compatible}')\n",
        "\n",
        "# Continuous Columns Validation\n",
        "def validate_continuous_columns(df1, df2, columns):\n",
        "    results = {}\n",
        "    for column in columns:\n",
        "        stat, p_value = ks_2samp(df1[column], df2[column])\n",
        "        results[column] = {'statistic': stat, 'p_value': p_value}\n",
        "    return results\n",
        "\n",
        "continuous_columns = ['age', 'income']\n",
        "continuous_validation = validate_continuous_columns(df_train, df_batch, continuous_columns)\n",
        "print('Continuous Columns Validation:')\n",
        "print(continuous_validation)\n",
        "\n",
        "# Categorical Columns Validation\n",
        "def validate_categorical_columns(df1, df2, columns):\n",
        "    results = {}\n",
        "    for column in columns:\n",
        "        df1_counts = df1[column].value_counts()\n",
        "        df2_counts = df2[column].value_counts()\n",
        "        all_categories = set(df1_counts.index).union(set(df2_counts.index))\n",
        "        df1_counts = df1_counts.reindex(all_categories, fill_value=0)\n",
        "        df2_counts = df2_counts.reindex(all_categories, fill_value=0)\n",
        "        stat, p_value = chisquare(df1_counts, df2_counts)\n",
        "        results[column] = {'statistic': stat, 'p_value': p_value}\n",
        "    return results\n",
        "\n",
        "categorical_columns = ['gender']\n",
        "categorical_validation = validate_categorical_columns(df_train, df_batch, categorical_columns)\n",
        "print('Categorical Columns Validation:')\n",
        "print(categorical_validation)\n"
      ]
    },
    {
      "cell_type": "markdown",
      "source": [
        "# Interpret Results\n",
        "# Interpret the p-values from the statistical tests:\n",
        "\n",
        "# For continuous columns, a high p-value (typically > 0.05) in the KS test\n",
        "# suggests that the distributions are similar.\n",
        "# For categorical columns, a high p-value in the Chi-square test suggests that # the category distributions are similar."
      ],
      "metadata": {
        "id": "I4JlUbENFa-Q"
      }
    },
    {
      "cell_type": "markdown",
      "source": [],
      "metadata": {
        "id": "orWFFcv2FBil"
      }
    }
  ]
}